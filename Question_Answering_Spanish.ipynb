{
 "cells": [
  {
   "cell_type": "markdown",
   "metadata": {},
   "source": [
    "# Question-Answering Español"
   ]
  },
  {
   "cell_type": "code",
   "execution_count": 27,
   "metadata": {},
   "outputs": [],
   "source": [
    "from transformers import AutoTokenizer, AutoModelForQuestionAnswering\n",
    "import torch"
   ]
  },
  {
   "cell_type": "code",
   "execution_count": 28,
   "metadata": {},
   "outputs": [],
   "source": [
    "tokenizer = AutoTokenizer.from_pretrained(\"mrm8488/bert-base-spanish-wwm-cased-finetuned-spa-squad2-es\")\n",
    "model = AutoModelForQuestionAnswering.from_pretrained(\"mrm8488/bert-base-spanish-wwm-cased-finetuned-spa-squad2-es\")"
   ]
  },
  {
   "cell_type": "code",
   "execution_count": 29,
   "metadata": {},
   "outputs": [],
   "source": [
    "text = r\"\"\"\n",
    "El Club Atlético Boca Juniors es una entidad deportiva argentina con sede en el barrio de La Boca, Buenos Aires. \n",
    "Fue fundado en dicho barrio el 3 de abril de 1905 por seis vecinos adolescentes hijos de italianos. El fútbol es \n",
    "su disciplina más destacada, aunque también compite a nivel profesional, nacional e internacionalmente, en baloncesto, \n",
    "voleibol, futsal y fútbol femenino mientras que deportes como el boxeo, judo, karate, taekwondo, gimnasia rítmica y \n",
    "gimnasia artística se practican a nivel amateur. Actualmente se desempeña en la Liga Profesional de Fútbol Argentino.\n",
    "Boca Juniors participa de la Primera División Argentina desde 1913 y, a partir del Torneo Inicial 2013, se convirtió \n",
    "en el único club que disputó todas las temporadas en Primera División desde el comienzo del profesionalismo en 1931. \n",
    "Además, es el equipo con mayor cantidad de partidos disputados.10​ A partir del 8 de junio de 2015, Boca Juniors \n",
    "batió el récord de mayor permanencia ininterrumpida en Primera División, con 37 312 días.11​ El equipo juega sus \n",
    "partidos como local en el estadio Alberto J. Armando, conocido mundialmente como «La Bombonera»; allí también ha sido \n",
    "localista en numerosas ocasiones la Selección Argentina de fútbol, donde mantiene un invicto histórico en partidos \n",
    "oficiales.\n",
    "A nivel local, el club cuenta con 34 campeonatos de liga de Primera División12​ y 14 copas nacionales (récord argentino), \n",
    "entre las que se destacan tres ediciones de la Copa Argentina (máximo ganador del certamen: 1969, 2011-12 y 2014-15) y \n",
    "la Supercopa Argentina 2018. También posee un título honorífico de la era amateur: la Copa de Honor, obtenida en 1925; \n",
    "un reconocimiento de la AFA a su exitosa gira por Europa en dicho año.13​\n",
    "\"\"\""
   ]
  },
  {
   "cell_type": "code",
   "execution_count": 30,
   "metadata": {},
   "outputs": [],
   "source": [
    "questions = [\"Qué es Boca Juniors\",\n",
    "             \"¿Con cuantos campeonatos de Primera División cuenta Boca Juniors?\"]"
   ]
  },
  {
   "cell_type": "code",
   "execution_count": 32,
   "metadata": {},
   "outputs": [
    {
     "name": "stdout",
     "output_type": "stream",
     "text": [
      "Pregunta: Qué es Boca Juniors\n",
      "Respuesta: el club atletico boca juniors es una entidad deportiva argentina con sede en el barrio de la boca, buenos aires\n",
      "\n",
      "Pregunta: ¿Con cuantos campeonatos de Primera División cuenta Boca Juniors?\n",
      "Respuesta: 34\n",
      "\n"
     ]
    }
   ],
   "source": [
    "for question in questions:\n",
    "    inputs = tokenizer(question, text, add_special_tokens=True, return_tensors=\"pt\")\n",
    "    input_ids = inputs[\"input_ids\"].tolist()[0]\n",
    "    outputs = model(**inputs)\n",
    "    answer_start_scores = outputs.start_logits\n",
    "    answer_end_scores = outputs.end_logits\n",
    "    answer_start = torch.argmax(\n",
    "        answer_start_scores\n",
    "    )  # Get the most likely beginning of answer with the argmax of the score\n",
    "    answer_end = torch.argmax(answer_end_scores) + 1  # Get the most likely end of answer with the argmax of the score\n",
    "    answer = tokenizer.convert_tokens_to_string(tokenizer.convert_ids_to_tokens(input_ids[answer_start:answer_end]))\n",
    "    print(f\"Pregunta: {question}\")\n",
    "    print(f\"Respuesta: {answer}\\n\")"
   ]
  },
  {
   "cell_type": "code",
   "execution_count": null,
   "metadata": {},
   "outputs": [],
   "source": []
  }
 ],
 "metadata": {
  "kernelspec": {
   "display_name": "ML",
   "language": "python",
   "name": "ml"
  },
  "language_info": {
   "codemirror_mode": {
    "name": "ipython",
    "version": 3
   },
   "file_extension": ".py",
   "mimetype": "text/x-python",
   "name": "python",
   "nbconvert_exporter": "python",
   "pygments_lexer": "ipython3",
   "version": "3.8.5"
  }
 },
 "nbformat": 4,
 "nbformat_minor": 4
}
